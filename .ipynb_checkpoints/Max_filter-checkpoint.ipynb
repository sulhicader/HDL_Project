{
 "cells": [
  {
   "cell_type": "code",
   "execution_count": 4,
   "metadata": {},
   "outputs": [
    {
     "name": "stdout",
     "output_type": "stream",
     "text": [
      "After resize :  (25, 25, 3)\n"
     ]
    }
   ],
   "source": [
    "import matplotlib.pyplot as plt\n",
    "from PIL import Image, ImageFilter\n",
    "import numpy as np\n",
    "\n",
    "#read the image\n",
    "img = Image.open(\"noisy_image_2.jpg\")\n",
    "\n",
    "# resize the image\n",
    "img = img.resize((25, 25))\n",
    "\n",
    "# covert the read image to array\n",
    "img_arr  = np.array(img)\n",
    "\n",
    "print (\"After resize : \" ,img_arr.shape)"
   ]
  },
  {
   "cell_type": "code",
   "execution_count": 5,
   "metadata": {},
   "outputs": [
    {
     "name": "stdout",
     "output_type": "stream",
     "text": [
      "After gray :  (25, 25)\n"
     ]
    }
   ],
   "source": [
    "#convert RGB to gra scale\n",
    "gray_image_array = np.dot( img_arr[:,:,:3], [0.299, 0.587, 0.114])\n",
    "\n",
    "print (\"After gray : \" ,gray_image_array.shape)"
   ]
  },
  {
   "cell_type": "code",
   "execution_count": 6,
   "metadata": {},
   "outputs": [
    {
     "data": {
      "text/plain": [
       "<matplotlib.image.AxesImage at 0x14ad89a32e8>"
      ]
     },
     "execution_count": 6,
     "metadata": {},
     "output_type": "execute_result"
    },
    {
     "data": {
      "image/png": "[encoded data removed]",
      "text/plain": [
       "<Figure size 432x288 with 1 Axes>"
      ]
     },
     "metadata": {
      "needs_background": "light"
     },
     "output_type": "display_data"
    }
   ],
   "source": [
    "plt.imshow(gray_image_array)"
   ]
  },
  {
   "cell_type": "code",
   "execution_count": 7,
   "metadata": {},
   "outputs": [],
   "source": [
    "gray_image_array = gray_image_array.astype(np.uint8)\n",
    "im3 = Image.fromarray(gray_image_array)\n",
    "im3.save(\"noise_image_25x25.jpg\")"
   ]
  },
  {
   "cell_type": "code",
   "execution_count": 8,
   "metadata": {},
   "outputs": [
    {
     "name": "stdout",
     "output_type": "stream",
     "text": [
      "85,92,98,b4,a1,a8,93,ae,ae,de,d4,e2,a3,ba,96,87,d4,a5,9e,ae,a4,a6,81,bf,a1,86,84,d7,c5,bd,c7,a8,8d,8e,6b,a7,9f,d6,b9,91,e3,83,cf,9b,a5,89,9a,c0,a5,7e,c2,c2,9b,ae,b5,ca,b1,c8,cf,e0,e2,a3,c0,e2,d7,bf,bd,af,98,c2,a5,b5,8a,91,ac,b2,b5,ac,96,89,b5,98,ad,b6,cf,c5,c2,a1,eb,b8,9b,a6,b8,9a,9b,5d,ce,96,8c,75,99,a1,c2,a8,a1,cf,b1,d5,bf,ac,15,f,19,d9,c2,c0,97,ae,ba,c0,a5,9c,96,b3,78,85,86,8c,94,bc,a4,b8,a8,8e,6,13,19,61,44,d2,cd,ae,a1,a8,96,b2,91,84,a8,aa,b4,9b,b5,a8,bb,d9,c7,c,33,7,a,9b,bf,6d,38,82,9a,b8,ab,7d,9b,a3,98,96,81,97,a4,ab,8e,a5,8e,12,19,0,a,bb,26,a1,a,5c,6f,9a,9b,ae,a3,b4,88,8e,94,7e,96,cf,b5,8e,bb,7,f,a,13,35,3,3,d3,65,26,97,a6,a7,b5,8b,af,ad,77,88,7e,85,a3,c6,a8,14,24,15,12,21,32,1c,3,c2,d7,28,79,82,b3,a5,8a,72,bc,85,92,81,af,b6,ae,e,1a,17,7,26,a,12,30,2d,77,f,19,ce,9f,88,ae,bb,a4,a4,6a,98,8e,ca,98,a1,c7,7,e,15,e,61,0,41,15,c,13,4a,c2,92,8d,9a,b4,b9,a8,96,7b,97,c5,6b,9f,ab,32,19,12,f,79,32,15,1f,1d,0,2b,81,e3,a8,9b,bd,b8,c2,d5,94,7b,ca,aa,a6,a1,11,2b,f,c,21,41,6,ae,94,af,99,ca,ac,7d,a8,9a,b1,cf,b1,7e,a7,87,71,9a,9f,3,a,29,c,26,19,d0,d7,8e,7d,87,f,b5,d0,83,d2,99,8d,90,ad,7e,5e,82,a3,1f,12,f,1c,1e,13,11,c5,11,9b,74,c2,25,96,6a,97,93,ab,a1,d7,6a,c,97,5e,7d,e,35,18,1c,5,1f,2a,8b,15,2b,89,82,5c,2b,45,f,32,5,4a,72,45,1f,79,6b,72,f,17,12,48,1f,0,2b,98,91,86,85,64,87,29,8e,65,7c,59,6e,72,6a,a1,8e,7c,12,f,14,15,f,3,47,a6,94,48,8c,b2,6e,4f,7e,98,83,67,71,5a,59,53,ad,78,a5,90,23,7,11,19,9,15,a7,19,9b,79,82,7b,92,22,1d,6f,83,8b,91,7b,b4,74,7e,67,b4,30,a,a,1e,1e,1,ad,7,a7,84,8b,79,a6,6b,7e,6b,69,8c,88,86,7e,7e,7f,8e,9e,17,30,0,19,14,92,57,2a,81,6a,59,92,a5,74,7d,48,67,61,7c,89,65,9b,67,77,56,15,1a,30,9,38,81,69,e5,a4,49,38,6f,6d,7f,4a,54,4f,31,85,3e,6b,3c,71,7e,8a,1f,29,79,3a,f,a3,82,7b,86,79,78,88,4b,70,b2,7d,67,69,79,53,5a,6b,85,6e,5a,3c,21,8d,2b,2a,67,5,a1,4a,64,61,99,67,ab,72,77,41,8e,a3,5e,90,70,\n"
     ]
    }
   ],
   "source": [
    "import random\n",
    "hex_list = \"\"\n",
    "for i in range(gray_image_array.shape[0]):\n",
    "    for j in range(gray_image_array.shape[1]):\n",
    "        hex_number = str(hex(gray_image_array[i,j]))\n",
    "        hex_number = hex_number[2:4]\n",
    "        hex_list+= hex_number+\",\"\n",
    "    \n",
    "print (hex_list)\n",
    "fo = open(\"hex_val.txt\" , \"w\")\n",
    "fo.write(hex_list[:-1])\n",
    "fo.close()   "
   ]
  },
  {
   "cell_type": "code",
   "execution_count": 9,
   "metadata": {},
   "outputs": [],
   "source": [
    "max_filterd_image = np.ndarray(shape=(30,30))\n",
    "\n",
    "for i in range(gray_image_array.shape[0]):\n",
    "    for j in range(gray_image_array.shape[1]):\n",
    "        try:\n",
    "            kernal = gray_image_array[i-1:i+2,j-1:j+2]\n",
    "            max_filterd_image[i,j] = np.max(kernal)\n",
    "        except:\n",
    "            max_filterd_image[i,j] = gray_image_array[i,j]"
   ]
  },
  {
   "cell_type": "code",
   "execution_count": 10,
   "metadata": {},
   "outputs": [
    {
     "data": {
      "text/plain": [
       "(30, 30)"
      ]
     },
     "execution_count": 10,
     "metadata": {},
     "output_type": "execute_result"
    }
   ],
   "source": [
    "max_filterd_image.shape"
   ]
  },
  {
   "cell_type": "code",
   "execution_count": 11,
   "metadata": {},
   "outputs": [
    {
     "data": {
      "text/plain": [
       "<matplotlib.image.AxesImage at 0x14ad89ffda0>"
      ]
     },
     "execution_count": 11,
     "metadata": {},
     "output_type": "execute_result"
    },
    {
     "data": {
      "image/png": "[encoded data removed]",
      "text/plain": [
       "<Figure size 432x288 with 1 Axes>"
      ]
     },
     "metadata": {
      "needs_background": "light"
     },
     "output_type": "display_data"
    }
   ],
   "source": [
    "plt.imshow(max_filterd_image)"
   ]
  },
  {
   "cell_type": "code",
   "execution_count": null,
   "metadata": {},
   "outputs": [],
   "source": []
  }
 ],
 "metadata": {
  "kernelspec": {
   "display_name": "Python 3",
   "language": "python",
   "name": "python3"
  },
  "language_info": {
   "codemirror_mode": {
    "name": "ipython",
    "version": 3
   },
   "file_extension": ".py",
   "mimetype": "text/x-python",
   "name": "python",
   "nbconvert_exporter": "python",
   "pygments_lexer": "ipython3",
   "version": "3.6.3"
  }
 },
 "nbformat": 4,
 "nbformat_minor": 2
}
